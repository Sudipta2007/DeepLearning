{
 "cells": [
  {
   "cell_type": "markdown",
   "metadata": {},
   "source": [
    "### Semeion Hand-written Digit classification with Simple CNN (Dr. Sudipta Samanta)"
   ]
  },
  {
   "cell_type": "code",
   "execution_count": 1,
   "metadata": {},
   "outputs": [
    {
     "name": "stderr",
     "output_type": "stream",
     "text": [
      "/usr/local/lib/python3.6/dist-packages/h5py/__init__.py:36: FutureWarning: Conversion of the second argument of issubdtype from `float` to `np.floating` is deprecated. In future, it will be treated as `np.float64 == np.dtype(float).type`.\n",
      "  from ._conv import register_converters as _register_converters\n",
      "Using TensorFlow backend.\n"
     ]
    }
   ],
   "source": [
    "import pandas as pd\n",
    "import numpy as np\n",
    "import matplotlib.pyplot as plt \n",
    "from keras import models\n",
    "from keras import layers\n",
    "from sklearn.model_selection import train_test_split\n",
    "import random"
   ]
  },
  {
   "cell_type": "markdown",
   "metadata": {},
   "source": [
    "### Load the data"
   ]
  },
  {
   "cell_type": "code",
   "execution_count": 2,
   "metadata": {},
   "outputs": [],
   "source": [
    "df = pd.read_csv(\"https://archive.ics.uci.edu/ml/machine-learning-databases/semeion/semeion.data\", header = None, sep = \" \")"
   ]
  },
  {
   "cell_type": "code",
   "execution_count": 3,
   "metadata": {},
   "outputs": [
    {
     "data": {
      "text/html": [
       "<div>\n",
       "<style scoped>\n",
       "    .dataframe tbody tr th:only-of-type {\n",
       "        vertical-align: middle;\n",
       "    }\n",
       "\n",
       "    .dataframe tbody tr th {\n",
       "        vertical-align: top;\n",
       "    }\n",
       "\n",
       "    .dataframe thead th {\n",
       "        text-align: right;\n",
       "    }\n",
       "</style>\n",
       "<table border=\"1\" class=\"dataframe\">\n",
       "  <thead>\n",
       "    <tr style=\"text-align: right;\">\n",
       "      <th></th>\n",
       "      <th>0</th>\n",
       "      <th>1</th>\n",
       "      <th>2</th>\n",
       "      <th>3</th>\n",
       "      <th>4</th>\n",
       "      <th>5</th>\n",
       "      <th>6</th>\n",
       "      <th>7</th>\n",
       "      <th>8</th>\n",
       "      <th>9</th>\n",
       "      <th>...</th>\n",
       "      <th>257</th>\n",
       "      <th>258</th>\n",
       "      <th>259</th>\n",
       "      <th>260</th>\n",
       "      <th>261</th>\n",
       "      <th>262</th>\n",
       "      <th>263</th>\n",
       "      <th>264</th>\n",
       "      <th>265</th>\n",
       "      <th>266</th>\n",
       "    </tr>\n",
       "  </thead>\n",
       "  <tbody>\n",
       "    <tr>\n",
       "      <th>0</th>\n",
       "      <td>0.0</td>\n",
       "      <td>0.0</td>\n",
       "      <td>0.0</td>\n",
       "      <td>0.0</td>\n",
       "      <td>0.0</td>\n",
       "      <td>0.0</td>\n",
       "      <td>1.0</td>\n",
       "      <td>1.0</td>\n",
       "      <td>1.0</td>\n",
       "      <td>1.0</td>\n",
       "      <td>...</td>\n",
       "      <td>0</td>\n",
       "      <td>0</td>\n",
       "      <td>0</td>\n",
       "      <td>0</td>\n",
       "      <td>0</td>\n",
       "      <td>0</td>\n",
       "      <td>0</td>\n",
       "      <td>0</td>\n",
       "      <td>0</td>\n",
       "      <td>NaN</td>\n",
       "    </tr>\n",
       "    <tr>\n",
       "      <th>1</th>\n",
       "      <td>0.0</td>\n",
       "      <td>0.0</td>\n",
       "      <td>0.0</td>\n",
       "      <td>0.0</td>\n",
       "      <td>0.0</td>\n",
       "      <td>1.0</td>\n",
       "      <td>1.0</td>\n",
       "      <td>1.0</td>\n",
       "      <td>1.0</td>\n",
       "      <td>1.0</td>\n",
       "      <td>...</td>\n",
       "      <td>0</td>\n",
       "      <td>0</td>\n",
       "      <td>0</td>\n",
       "      <td>0</td>\n",
       "      <td>0</td>\n",
       "      <td>0</td>\n",
       "      <td>0</td>\n",
       "      <td>0</td>\n",
       "      <td>0</td>\n",
       "      <td>NaN</td>\n",
       "    </tr>\n",
       "    <tr>\n",
       "      <th>2</th>\n",
       "      <td>0.0</td>\n",
       "      <td>0.0</td>\n",
       "      <td>0.0</td>\n",
       "      <td>0.0</td>\n",
       "      <td>0.0</td>\n",
       "      <td>0.0</td>\n",
       "      <td>0.0</td>\n",
       "      <td>0.0</td>\n",
       "      <td>0.0</td>\n",
       "      <td>1.0</td>\n",
       "      <td>...</td>\n",
       "      <td>0</td>\n",
       "      <td>0</td>\n",
       "      <td>0</td>\n",
       "      <td>0</td>\n",
       "      <td>0</td>\n",
       "      <td>0</td>\n",
       "      <td>0</td>\n",
       "      <td>0</td>\n",
       "      <td>0</td>\n",
       "      <td>NaN</td>\n",
       "    </tr>\n",
       "    <tr>\n",
       "      <th>3</th>\n",
       "      <td>0.0</td>\n",
       "      <td>0.0</td>\n",
       "      <td>0.0</td>\n",
       "      <td>0.0</td>\n",
       "      <td>0.0</td>\n",
       "      <td>0.0</td>\n",
       "      <td>1.0</td>\n",
       "      <td>1.0</td>\n",
       "      <td>1.0</td>\n",
       "      <td>1.0</td>\n",
       "      <td>...</td>\n",
       "      <td>0</td>\n",
       "      <td>0</td>\n",
       "      <td>0</td>\n",
       "      <td>0</td>\n",
       "      <td>0</td>\n",
       "      <td>0</td>\n",
       "      <td>0</td>\n",
       "      <td>0</td>\n",
       "      <td>0</td>\n",
       "      <td>NaN</td>\n",
       "    </tr>\n",
       "    <tr>\n",
       "      <th>4</th>\n",
       "      <td>0.0</td>\n",
       "      <td>0.0</td>\n",
       "      <td>0.0</td>\n",
       "      <td>0.0</td>\n",
       "      <td>0.0</td>\n",
       "      <td>0.0</td>\n",
       "      <td>0.0</td>\n",
       "      <td>0.0</td>\n",
       "      <td>0.0</td>\n",
       "      <td>1.0</td>\n",
       "      <td>...</td>\n",
       "      <td>0</td>\n",
       "      <td>0</td>\n",
       "      <td>0</td>\n",
       "      <td>0</td>\n",
       "      <td>0</td>\n",
       "      <td>0</td>\n",
       "      <td>0</td>\n",
       "      <td>0</td>\n",
       "      <td>0</td>\n",
       "      <td>NaN</td>\n",
       "    </tr>\n",
       "  </tbody>\n",
       "</table>\n",
       "<p>5 rows × 267 columns</p>\n",
       "</div>"
      ],
      "text/plain": [
       "   0    1    2    3    4    5    6    7    8    9   ...   257  258  259  260  \\\n",
       "0  0.0  0.0  0.0  0.0  0.0  0.0  1.0  1.0  1.0  1.0 ...     0    0    0    0   \n",
       "1  0.0  0.0  0.0  0.0  0.0  1.0  1.0  1.0  1.0  1.0 ...     0    0    0    0   \n",
       "2  0.0  0.0  0.0  0.0  0.0  0.0  0.0  0.0  0.0  1.0 ...     0    0    0    0   \n",
       "3  0.0  0.0  0.0  0.0  0.0  0.0  1.0  1.0  1.0  1.0 ...     0    0    0    0   \n",
       "4  0.0  0.0  0.0  0.0  0.0  0.0  0.0  0.0  0.0  1.0 ...     0    0    0    0   \n",
       "\n",
       "   261  262  263  264  265  266  \n",
       "0    0    0    0    0    0  NaN  \n",
       "1    0    0    0    0    0  NaN  \n",
       "2    0    0    0    0    0  NaN  \n",
       "3    0    0    0    0    0  NaN  \n",
       "4    0    0    0    0    0  NaN  \n",
       "\n",
       "[5 rows x 267 columns]"
      ]
     },
     "execution_count": 3,
     "metadata": {},
     "output_type": "execute_result"
    }
   ],
   "source": [
    "df.head()"
   ]
  },
  {
   "cell_type": "code",
   "execution_count": 4,
   "metadata": {},
   "outputs": [
    {
     "data": {
      "text/plain": [
       "(1593, 267)"
      ]
     },
     "execution_count": 4,
     "metadata": {},
     "output_type": "execute_result"
    }
   ],
   "source": [
    "df.shape"
   ]
  },
  {
   "cell_type": "code",
   "execution_count": 5,
   "metadata": {},
   "outputs": [
    {
     "data": {
      "text/plain": [
       "pandas.core.frame.DataFrame"
      ]
     },
     "execution_count": 5,
     "metadata": {},
     "output_type": "execute_result"
    }
   ],
   "source": [
    "type(df)"
   ]
  },
  {
   "cell_type": "code",
   "execution_count": 6,
   "metadata": {},
   "outputs": [],
   "source": [
    "# convert dataframe to numpy array\n",
    "df1 = df.values"
   ]
  },
  {
   "cell_type": "code",
   "execution_count": 7,
   "metadata": {},
   "outputs": [
    {
     "name": "stdout",
     "output_type": "stream",
     "text": [
      "(1593, 267)\n",
      "<class 'numpy.ndarray'>\n"
     ]
    }
   ],
   "source": [
    "print(df1.shape)\n",
    "print(type(df1))"
   ]
  },
  {
   "cell_type": "code",
   "execution_count": 8,
   "metadata": {},
   "outputs": [
    {
     "name": "stdout",
     "output_type": "stream",
     "text": [
      "X:  (1593, 256)\n",
      "Y:  (1593, 10)\n"
     ]
    }
   ],
   "source": [
    "x = df1[:,0:256]\n",
    "y = df1[:,256:266]\n",
    "print(\"X: \", x.shape)\n",
    "print(\"Y: \", y.shape)"
   ]
  },
  {
   "cell_type": "code",
   "execution_count": 9,
   "metadata": {},
   "outputs": [
    {
     "data": {
      "text/plain": [
       "array([0., 0., 0., 0., 0., 0., 1., 1., 1., 1., 1., 1., 1., 1., 0., 0., 0.,\n",
       "       0., 0., 0., 0., 1., 1., 1., 1., 1., 1., 0., 1., 1., 0., 0., 0., 0.,\n",
       "       0., 0., 1., 1., 1., 1., 1., 1., 0., 0., 0., 1., 1., 0., 0., 0., 0.,\n",
       "       1., 1., 1., 1., 1., 0., 0., 0., 0., 1., 1., 1., 1., 0., 0., 0., 1.,\n",
       "       1., 1., 1., 0., 1., 1., 1., 1., 1., 1., 1., 0., 0., 0., 0., 1., 1.,\n",
       "       1., 0., 1., 1., 1., 1., 1., 0., 1., 1., 0., 0., 0., 1., 1., 1., 1.,\n",
       "       1., 1., 1., 1., 0., 0., 0., 1., 1., 0., 0., 0., 1., 1., 1., 1., 1.,\n",
       "       1., 0., 0., 0., 0., 1., 1., 0., 0., 0., 1., 1., 1., 1., 1., 1., 0.,\n",
       "       0., 0., 0., 0., 1., 1., 0., 0., 0., 1., 1., 1., 1., 0., 0., 0., 0.,\n",
       "       0., 0., 0., 1., 1., 0., 0., 0., 1., 1., 1., 0., 0., 0., 0., 0., 0.,\n",
       "       1., 1., 1., 0., 0., 0., 1., 1., 1., 0., 0., 0., 0., 0., 0., 0., 1.,\n",
       "       1., 0., 0., 0., 0., 1., 1., 1., 1., 0., 0., 0., 0., 1., 1., 1., 1.,\n",
       "       0., 0., 0., 0., 1., 1., 1., 1., 0., 0., 0., 1., 1., 1., 0., 0., 0.,\n",
       "       0., 0., 0., 1., 0., 1., 1., 1., 1., 1., 1., 1., 0., 0., 0., 0., 0.,\n",
       "       0., 0., 0., 0., 0., 1., 1., 1., 1., 0., 0., 0., 0., 0., 0., 0., 0.,\n",
       "       0.])"
      ]
     },
     "execution_count": 9,
     "metadata": {},
     "output_type": "execute_result"
    }
   ],
   "source": [
    "x[0]"
   ]
  },
  {
   "cell_type": "code",
   "execution_count": 10,
   "metadata": {},
   "outputs": [
    {
     "data": {
      "text/plain": [
       "array([1., 0., 0., 0., 0., 0., 0., 0., 0., 0.])"
      ]
     },
     "execution_count": 10,
     "metadata": {},
     "output_type": "execute_result"
    }
   ],
   "source": [
    "y[0]"
   ]
  },
  {
   "cell_type": "code",
   "execution_count": 11,
   "metadata": {},
   "outputs": [
    {
     "data": {
      "image/png": "[encoded data removed]",
      "text/plain": [
       "<Figure size 432x288 with 1 Axes>"
      ]
     },
     "metadata": {},
     "output_type": "display_data"
    }
   ],
   "source": [
    "# Convert data to figure and check how it looks\n",
    "fig = x[50].reshape(16,16) # reshape to 16 x 16 dimension\n",
    "plt.imshow(fig,cmap=\"gray\")\n",
    "plt.show()"
   ]
  },
  {
   "cell_type": "code",
   "execution_count": 12,
   "metadata": {},
   "outputs": [
    {
     "name": "stdout",
     "output_type": "stream",
     "text": [
      "1593\n"
     ]
    }
   ],
   "source": [
    "print(len(x))"
   ]
  },
  {
   "cell_type": "markdown",
   "metadata": {},
   "source": [
    "### Reshape data to feed into network"
   ]
  },
  {
   "cell_type": "code",
   "execution_count": 13,
   "metadata": {},
   "outputs": [],
   "source": [
    "X = x.reshape(1593, 16, 16, 1)"
   ]
  },
  {
   "cell_type": "code",
   "execution_count": 14,
   "metadata": {},
   "outputs": [
    {
     "name": "stdout",
     "output_type": "stream",
     "text": [
      "(1115, 16, 16, 1) (1115, 10)\n",
      "(478, 16, 16, 1) (478, 10)\n"
     ]
    }
   ],
   "source": [
    "# Split Data into training and testing set (20%)\n",
    "X_train, X_test, y_train, y_test = train_test_split(X, y, test_size=0.30) \n",
    "print (X_train.shape, y_train.shape)\n",
    "print (X_test.shape, y_test.shape)"
   ]
  },
  {
   "cell_type": "markdown",
   "metadata": {},
   "source": [
    "### Build a simple CNN"
   ]
  },
  {
   "cell_type": "code",
   "execution_count": 15,
   "metadata": {},
   "outputs": [],
   "source": [
    "model = models.Sequential()\n",
    "model.add(layers.Conv2D(32, (3, 3), activation = 'relu', input_shape=(16,16,1)))\n",
    "model.add(layers.Conv2D(64, (3, 3), activation = 'relu'))\n",
    "model.add(layers.MaxPooling2D((2, 2)))\n",
    "model.add(layers.Conv2D(64, (3, 3), activation = 'relu'))\n",
    "model.add(layers.Flatten())\n",
    "model.add(layers.Dense(128, activation='relu'))\n",
    "model.add(layers.Dense(10, activation='softmax'))"
   ]
  },
  {
   "cell_type": "code",
   "execution_count": 16,
   "metadata": {},
   "outputs": [
    {
     "name": "stdout",
     "output_type": "stream",
     "text": [
      "_________________________________________________________________\n",
      "Layer (type)                 Output Shape              Param #   \n",
      "=================================================================\n",
      "conv2d_1 (Conv2D)            (None, 14, 14, 32)        320       \n",
      "_________________________________________________________________\n",
      "conv2d_2 (Conv2D)            (None, 12, 12, 64)        18496     \n",
      "_________________________________________________________________\n",
      "max_pooling2d_1 (MaxPooling2 (None, 6, 6, 64)          0         \n",
      "_________________________________________________________________\n",
      "conv2d_3 (Conv2D)            (None, 4, 4, 64)          36928     \n",
      "_________________________________________________________________\n",
      "flatten_1 (Flatten)          (None, 1024)              0         \n",
      "_________________________________________________________________\n",
      "dense_1 (Dense)              (None, 128)               131200    \n",
      "_________________________________________________________________\n",
      "dense_2 (Dense)              (None, 10)                1290      \n",
      "=================================================================\n",
      "Total params: 188,234\n",
      "Trainable params: 188,234\n",
      "Non-trainable params: 0\n",
      "_________________________________________________________________\n"
     ]
    }
   ],
   "source": [
    "model.summary()"
   ]
  },
  {
   "cell_type": "code",
   "execution_count": 17,
   "metadata": {},
   "outputs": [],
   "source": [
    "model.compile(optimizer='rmsprop', loss='categorical_crossentropy', metrics=['accuracy'])"
   ]
  },
  {
   "cell_type": "code",
   "execution_count": 18,
   "metadata": {},
   "outputs": [
    {
     "data": {
      "text/plain": [
       "(1115, 16, 16, 1)"
      ]
     },
     "execution_count": 18,
     "metadata": {},
     "output_type": "execute_result"
    }
   ],
   "source": [
    "X_train.shape"
   ]
  },
  {
   "cell_type": "code",
   "execution_count": 19,
   "metadata": {},
   "outputs": [
    {
     "name": "stdout",
     "output_type": "stream",
     "text": [
      "Train on 780 samples, validate on 335 samples\n",
      "Epoch 1/20\n",
      "780/780 [==============================] - 2s 2ms/step - loss: 1.8332 - acc: 0.3462 - val_loss: 1.2642 - val_acc: 0.5224\n",
      "Epoch 2/20\n",
      "780/780 [==============================] - 0s 122us/step - loss: 0.9387 - acc: 0.6795 - val_loss: 1.0652 - val_acc: 0.6209\n",
      "Epoch 3/20\n",
      "780/780 [==============================] - 0s 120us/step - loss: 0.6586 - acc: 0.7885 - val_loss: 1.5249 - val_acc: 0.5134\n",
      "Epoch 4/20\n",
      "780/780 [==============================] - 0s 124us/step - loss: 0.4639 - acc: 0.8372 - val_loss: 1.0111 - val_acc: 0.7134\n",
      "Epoch 5/20\n",
      "780/780 [==============================] - 0s 121us/step - loss: 0.3637 - acc: 0.8936 - val_loss: 0.4758 - val_acc: 0.8418\n",
      "Epoch 6/20\n",
      "780/780 [==============================] - 0s 121us/step - loss: 0.3105 - acc: 0.8833 - val_loss: 0.3147 - val_acc: 0.9015\n",
      "Epoch 7/20\n",
      "780/780 [==============================] - 0s 121us/step - loss: 0.2539 - acc: 0.9077 - val_loss: 0.4492 - val_acc: 0.8806\n",
      "Epoch 8/20\n",
      "780/780 [==============================] - 0s 119us/step - loss: 0.1424 - acc: 0.9577 - val_loss: 0.6844 - val_acc: 0.8119\n",
      "Epoch 9/20\n",
      "780/780 [==============================] - 0s 123us/step - loss: 0.1664 - acc: 0.9410 - val_loss: 0.5015 - val_acc: 0.8507\n",
      "Epoch 10/20\n",
      "780/780 [==============================] - 0s 122us/step - loss: 0.1329 - acc: 0.9590 - val_loss: 0.5537 - val_acc: 0.8269\n",
      "Epoch 11/20\n",
      "780/780 [==============================] - 0s 123us/step - loss: 0.1117 - acc: 0.9628 - val_loss: 0.2254 - val_acc: 0.9284\n",
      "Epoch 12/20\n",
      "780/780 [==============================] - 0s 125us/step - loss: 0.1127 - acc: 0.9641 - val_loss: 0.3133 - val_acc: 0.8955\n",
      "Epoch 13/20\n",
      "780/780 [==============================] - 0s 121us/step - loss: 0.0599 - acc: 0.9897 - val_loss: 0.1816 - val_acc: 0.9463\n",
      "Epoch 14/20\n",
      "780/780 [==============================] - 0s 122us/step - loss: 0.0151 - acc: 1.0000 - val_loss: 0.1942 - val_acc: 0.9552\n",
      "Epoch 15/20\n",
      "780/780 [==============================] - 0s 123us/step - loss: 0.0581 - acc: 0.9846 - val_loss: 0.3202 - val_acc: 0.9164\n",
      "Epoch 16/20\n",
      "780/780 [==============================] - 0s 122us/step - loss: 0.0162 - acc: 0.9962 - val_loss: 0.5793 - val_acc: 0.8716\n",
      "Epoch 17/20\n",
      "780/780 [==============================] - 0s 122us/step - loss: 0.0352 - acc: 0.9897 - val_loss: 0.2095 - val_acc: 0.9373\n",
      "Epoch 18/20\n",
      "780/780 [==============================] - 0s 120us/step - loss: 0.0070 - acc: 0.9987 - val_loss: 0.1596 - val_acc: 0.9493\n",
      "Epoch 19/20\n",
      "780/780 [==============================] - 0s 121us/step - loss: 0.0674 - acc: 0.9795 - val_loss: 0.1974 - val_acc: 0.9433\n",
      "Epoch 20/20\n",
      "780/780 [==============================] - 0s 126us/step - loss: 0.0049 - acc: 1.0000 - val_loss: 0.1860 - val_acc: 0.9522\n"
     ]
    }
   ],
   "source": [
    "history = model.fit(X_train, y_train, epochs=20, batch_size=64, validation_split=0.3)"
   ]
  },
  {
   "cell_type": "markdown",
   "metadata": {},
   "source": [
    "### Plotting Training and Validation Loss"
   ]
  },
  {
   "cell_type": "code",
   "execution_count": 20,
   "metadata": {},
   "outputs": [
    {
     "data": {
      "image/png": "[encoded data removed]",
      "text/plain": [
       "<Figure size 432x288 with 1 Axes>"
      ]
     },
     "metadata": {},
     "output_type": "display_data"
    }
   ],
   "source": [
    "history_dict = history.history\n",
    "loss_values = history_dict['loss']\n",
    "val_loss_values = history_dict['val_loss']\n",
    "epochs = range(1, len(loss_values) + 1)\n",
    "\n",
    "plt.plot(epochs, loss_values, 'g', label = 'Training loss') \n",
    "plt.plot(epochs, val_loss_values, 'r', label = 'Validation loss')\n",
    "plt.title('Training and Validation Loss')\n",
    "plt.xlabel('# of Epochs')\n",
    "plt.ylabel('Loss')\n",
    "plt.legend()\n",
    "\n",
    "plt.show()"
   ]
  },
  {
   "cell_type": "markdown",
   "metadata": {},
   "source": [
    "### Plotting Training and Validation Accuracy"
   ]
  },
  {
   "cell_type": "code",
   "execution_count": 21,
   "metadata": {},
   "outputs": [
    {
     "data": {
      "image/png": "[encoded data removed]",
      "text/plain": [
       "<Figure size 432x288 with 1 Axes>"
      ]
     },
     "metadata": {},
     "output_type": "display_data"
    }
   ],
   "source": [
    "acc_values = history_dict['acc']\n",
    "val_acc_values = history_dict['val_acc']\n",
    "epochs = range(1, len(acc_values) + 1)\n",
    "\n",
    "plt.plot(epochs, acc_values, 'g', label = 'Training acc') \n",
    "plt.plot(epochs, val_acc_values, 'r', label = 'Validation acc')\n",
    "plt.title('Training and Validation Accuracy')\n",
    "plt.xlabel('# of Epochs')\n",
    "plt.ylabel('Accuracy')\n",
    "plt.legend()\n",
    "\n",
    "plt.show()"
   ]
  },
  {
   "cell_type": "code",
   "execution_count": 22,
   "metadata": {},
   "outputs": [
    {
     "name": "stdout",
     "output_type": "stream",
     "text": [
      "478/478 [==============================] - 0s 260us/step\n",
      "Test loss: 0.2701152061817536\n",
      "Test accuracy: 0.9372384942226331\n"
     ]
    }
   ],
   "source": [
    "score = model.evaluate(X_test, y_test, verbose=1)\n",
    "print('Test loss:', score[0])\n",
    "print('Test accuracy:', score[1])"
   ]
  },
  {
   "cell_type": "markdown",
   "metadata": {},
   "source": [
    "### Adding Dropout layers for overfitting"
   ]
  },
  {
   "cell_type": "code",
   "execution_count": 23,
   "metadata": {},
   "outputs": [],
   "source": [
    "model1 = models.Sequential()\n",
    "model1.add(layers.Conv2D(32, (3, 3), activation = 'relu', input_shape=(16,16,1)))\n",
    "model1.add(layers.Conv2D(64, (3, 3), activation = 'relu'))\n",
    "model1.add(layers.MaxPooling2D((2, 2)))\n",
    "model1.add(layers.Dropout(0.25))\n",
    "model1.add(layers.Conv2D(64, (3, 3), activation = 'relu'))\n",
    "model1.add(layers.Flatten())\n",
    "model1.add(layers.Dense(128, activation='relu'))\n",
    "model1.add(layers.Dropout(0.5))\n",
    "model1.add(layers.Dense(10, activation='softmax'))"
   ]
  },
  {
   "cell_type": "code",
   "execution_count": 24,
   "metadata": {},
   "outputs": [
    {
     "name": "stdout",
     "output_type": "stream",
     "text": [
      "_________________________________________________________________\n",
      "Layer (type)                 Output Shape              Param #   \n",
      "=================================================================\n",
      "conv2d_1 (Conv2D)            (None, 14, 14, 32)        320       \n",
      "_________________________________________________________________\n",
      "conv2d_2 (Conv2D)            (None, 12, 12, 64)        18496     \n",
      "_________________________________________________________________\n",
      "max_pooling2d_1 (MaxPooling2 (None, 6, 6, 64)          0         \n",
      "_________________________________________________________________\n",
      "conv2d_3 (Conv2D)            (None, 4, 4, 64)          36928     \n",
      "_________________________________________________________________\n",
      "flatten_1 (Flatten)          (None, 1024)              0         \n",
      "_________________________________________________________________\n",
      "dense_1 (Dense)              (None, 128)               131200    \n",
      "_________________________________________________________________\n",
      "dense_2 (Dense)              (None, 10)                1290      \n",
      "=================================================================\n",
      "Total params: 188,234\n",
      "Trainable params: 188,234\n",
      "Non-trainable params: 0\n",
      "_________________________________________________________________\n"
     ]
    }
   ],
   "source": [
    "model.summary()"
   ]
  },
  {
   "cell_type": "code",
   "execution_count": 25,
   "metadata": {},
   "outputs": [],
   "source": [
    "model1.compile(optimizer='rmsprop', loss='categorical_crossentropy', metrics=['accuracy'])"
   ]
  },
  {
   "cell_type": "code",
   "execution_count": 26,
   "metadata": {},
   "outputs": [
    {
     "name": "stdout",
     "output_type": "stream",
     "text": [
      "Train on 780 samples, validate on 335 samples\n",
      "Epoch 1/20\n",
      "780/780 [==============================] - 0s 574us/step - loss: 1.9913 - acc: 0.2923 - val_loss: 1.8766 - val_acc: 0.3224\n",
      "Epoch 2/20\n",
      "780/780 [==============================] - 0s 132us/step - loss: 1.3615 - acc: 0.5346 - val_loss: 0.9407 - val_acc: 0.6925\n",
      "Epoch 3/20\n",
      "780/780 [==============================] - 0s 133us/step - loss: 0.8893 - acc: 0.7026 - val_loss: 0.6331 - val_acc: 0.7970\n",
      "Epoch 4/20\n",
      "780/780 [==============================] - 0s 129us/step - loss: 0.7018 - acc: 0.7808 - val_loss: 0.4630 - val_acc: 0.8657\n",
      "Epoch 5/20\n",
      "780/780 [==============================] - 0s 130us/step - loss: 0.5694 - acc: 0.8192 - val_loss: 0.4845 - val_acc: 0.8448\n",
      "Epoch 6/20\n",
      "780/780 [==============================] - 0s 131us/step - loss: 0.4763 - acc: 0.8295 - val_loss: 0.4947 - val_acc: 0.8358\n",
      "Epoch 7/20\n",
      "780/780 [==============================] - 0s 130us/step - loss: 0.3823 - acc: 0.8769 - val_loss: 0.2992 - val_acc: 0.9104\n",
      "Epoch 8/20\n",
      "780/780 [==============================] - 0s 135us/step - loss: 0.3557 - acc: 0.8923 - val_loss: 0.3961 - val_acc: 0.8746\n",
      "Epoch 9/20\n",
      "780/780 [==============================] - 0s 131us/step - loss: 0.2721 - acc: 0.9205 - val_loss: 0.2308 - val_acc: 0.9134\n",
      "Epoch 10/20\n",
      "780/780 [==============================] - 0s 129us/step - loss: 0.2378 - acc: 0.9205 - val_loss: 0.2045 - val_acc: 0.9463\n",
      "Epoch 11/20\n",
      "780/780 [==============================] - 0s 128us/step - loss: 0.2412 - acc: 0.9179 - val_loss: 0.2093 - val_acc: 0.9343\n",
      "Epoch 12/20\n",
      "780/780 [==============================] - 0s 129us/step - loss: 0.1625 - acc: 0.9487 - val_loss: 0.1999 - val_acc: 0.9403\n",
      "Epoch 13/20\n",
      "780/780 [==============================] - 0s 129us/step - loss: 0.1686 - acc: 0.9449 - val_loss: 0.1998 - val_acc: 0.9343\n",
      "Epoch 14/20\n",
      "780/780 [==============================] - 0s 131us/step - loss: 0.1441 - acc: 0.9474 - val_loss: 0.1598 - val_acc: 0.9463\n",
      "Epoch 15/20\n",
      "780/780 [==============================] - 0s 130us/step - loss: 0.1628 - acc: 0.9410 - val_loss: 0.1876 - val_acc: 0.9433\n",
      "Epoch 16/20\n",
      "780/780 [==============================] - 0s 130us/step - loss: 0.0966 - acc: 0.9692 - val_loss: 0.1876 - val_acc: 0.9463\n",
      "Epoch 17/20\n",
      "780/780 [==============================] - 0s 130us/step - loss: 0.0935 - acc: 0.9628 - val_loss: 0.1489 - val_acc: 0.9433\n",
      "Epoch 18/20\n",
      "780/780 [==============================] - 0s 132us/step - loss: 0.0856 - acc: 0.9692 - val_loss: 0.1372 - val_acc: 0.9582\n",
      "Epoch 19/20\n",
      "780/780 [==============================] - 0s 130us/step - loss: 0.0964 - acc: 0.9667 - val_loss: 0.1946 - val_acc: 0.9433\n",
      "Epoch 20/20\n",
      "780/780 [==============================] - 0s 129us/step - loss: 0.0943 - acc: 0.9782 - val_loss: 0.1495 - val_acc: 0.9463\n"
     ]
    }
   ],
   "source": [
    "history1 = model1.fit(X_train, y_train, epochs=20, batch_size=64, validation_split=0.3)"
   ]
  },
  {
   "cell_type": "code",
   "execution_count": 27,
   "metadata": {},
   "outputs": [
    {
     "data": {
      "image/png": "[encoded data removed]",
      "text/plain": [
       "<Figure size 432x288 with 1 Axes>"
      ]
     },
     "metadata": {},
     "output_type": "display_data"
    }
   ],
   "source": [
    "history_dict1 = history1.history\n",
    "loss_values = history_dict1['loss']\n",
    "val_loss_values = history_dict1['val_loss']\n",
    "epochs = range(1, len(loss_values) + 1)\n",
    "\n",
    "plt.plot(epochs, loss_values, 'g', label = 'Training loss') \n",
    "plt.plot(epochs, val_loss_values, 'r', label = 'Validation loss')\n",
    "plt.title('Training and Validation Loss')\n",
    "plt.xlabel('# of Epochs')\n",
    "plt.ylabel('Loss')\n",
    "plt.legend()\n",
    "\n",
    "plt.show()"
   ]
  },
  {
   "cell_type": "code",
   "execution_count": 28,
   "metadata": {},
   "outputs": [
    {
     "data": {
      "image/png": "[encoded data removed]",
      "text/plain": [
       "<Figure size 432x288 with 1 Axes>"
      ]
     },
     "metadata": {},
     "output_type": "display_data"
    }
   ],
   "source": [
    "acc_values = history_dict1['acc']\n",
    "val_acc_values = history_dict1['val_acc']\n",
    "epochs = range(1, len(acc_values) + 1)\n",
    "\n",
    "plt.plot(epochs, acc_values, 'g', label = 'Training acc') \n",
    "plt.plot(epochs, val_acc_values, 'r', label = 'Validation acc')\n",
    "plt.title('Training and Validation Accuracy')\n",
    "plt.xlabel('# of Epochs')\n",
    "plt.ylabel('Accuracy')\n",
    "plt.legend()\n",
    "\n",
    "plt.show()"
   ]
  },
  {
   "cell_type": "markdown",
   "metadata": {},
   "source": [
    "### Evaluate Model performance for Test Dataset"
   ]
  },
  {
   "cell_type": "code",
   "execution_count": 29,
   "metadata": {},
   "outputs": [
    {
     "name": "stdout",
     "output_type": "stream",
     "text": [
      "478/478 [==============================] - 0s 213us/step\n",
      "Test loss: 0.2633954554671523\n",
      "Test accuracy: 0.9372384939732412\n"
     ]
    }
   ],
   "source": [
    "score1 = model1.evaluate(X_test, y_test, verbose=1)\n",
    "print('Test loss:', score1[0])\n",
    "print('Test accuracy:', score1[1])"
   ]
  },
  {
   "cell_type": "code",
   "execution_count": 30,
   "metadata": {},
   "outputs": [],
   "source": [
    "y_pred = model1.predict(X_test)"
   ]
  },
  {
   "cell_type": "code",
   "execution_count": 32,
   "metadata": {},
   "outputs": [],
   "source": [
    "y_score = model1.predict(X_test)"
   ]
  },
  {
   "cell_type": "markdown",
   "metadata": {},
   "source": [
    "### ROC curve and area under the ROC curve"
   ]
  },
  {
   "cell_type": "code",
   "execution_count": 35,
   "metadata": {},
   "outputs": [
    {
     "data": {
      "image/png": "[encoded data removed]",
      "text/plain": [
       "<Figure size 432x288 with 1 Axes>"
      ]
     },
     "metadata": {},
     "output_type": "display_data"
    }
   ],
   "source": [
    "import numpy as np\n",
    "from scipy import interp\n",
    "import matplotlib.pyplot as plt\n",
    "from itertools import cycle\n",
    "from sklearn.metrics import roc_curve, auc\n",
    "\n",
    "# Plot linewidth.\n",
    "lw = 2\n",
    "\n",
    "# Compute ROC curve and ROC area for each class\n",
    "fpr = dict()\n",
    "tpr = dict()\n",
    "roc_auc = dict()\n",
    "for i in range(n_classes):\n",
    "    fpr[i], tpr[i], _ = roc_curve(y_test[:, i], y_score[:, i])\n",
    "    roc_auc[i] = auc(fpr[i], tpr[i])\n",
    "\n",
    "# Plot all ROC curves\n",
    "plt.figure(1)\n",
    "colors = cycle(['red','green','blue', 'orange', 'deeppink','cyan'])\n",
    "for i, color in zip(range(n_classes), colors):\n",
    "    plt.plot(fpr[i], tpr[i], color=color, lw=lw,\n",
    "             label='ROC curve of class {0} (area = {1:0.2f})'\n",
    "             ''.format(i, roc_auc[i]))\n",
    "\n",
    "plt.plot([0, 1], [0, 1], 'k--', lw=lw)\n",
    "plt.xlim([0.0, 1.0])\n",
    "plt.ylim([0.0, 1.05])\n",
    "plt.xlabel('False Positive Rate')\n",
    "plt.ylabel('True Positive Rate')\n",
    "plt.title('ROC Curve for 10 different classes')\n",
    "plt.legend(loc=\"lower right\")\n",
    "plt.show()"
   ]
  },
  {
   "cell_type": "markdown",
   "metadata": {},
   "source": [
    "### Real Label vs Predicted Label"
   ]
  },
  {
   "cell_type": "code",
   "execution_count": 36,
   "metadata": {},
   "outputs": [
    {
     "data": {
      "image/png": "[encoded data removed]",
      "text/plain": [
       "<Figure size 864x864 with 6 Axes>"
      ]
     },
     "metadata": {},
     "output_type": "display_data"
    }
   ],
   "source": [
    "row = 2\n",
    "col = 3\n",
    "\n",
    "fig, axes = plt.subplots(row,col,figsize=(12,12))\n",
    "y_value = np.array([0,1,2,3,4,5,6,7,8,9])\n",
    "for i in range(0,row):\n",
    "    for j in range(0,col):\n",
    "        x = random.randint(0,len(X_test))\n",
    "        axes[i, j].imshow(X_test[x].reshape(16,16),cmap=\"gray\")\n",
    "        axes[i, j].set_title('Label: %d Pred: %d Prob: %f'\n",
    "        %(y_value[np.argmax(y_test[x])],y_value[np.argmax(y_pred[x])],y_pred[x][np.argmax(y_pred[x])]))\n",
    "        \n",
    "plt.show()"
   ]
  },
  {
   "cell_type": "code",
   "execution_count": null,
   "metadata": {},
   "outputs": [],
   "source": []
  }
 ],
 "metadata": {
  "kernelspec": {
   "display_name": "Python 3",
   "language": "python",
   "name": "python3"
  },
  "language_info": {
   "codemirror_mode": {
    "name": "ipython",
    "version": 3
   },
   "file_extension": ".py",
   "mimetype": "text/x-python",
   "name": "python",
   "nbconvert_exporter": "python",
   "pygments_lexer": "ipython3",
   "version": "3.6.3"
  }
 },
 "nbformat": 4,
 "nbformat_minor": 2
}
