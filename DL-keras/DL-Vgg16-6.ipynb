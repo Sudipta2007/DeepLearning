{
 "cells": [
  {
   "cell_type": "markdown",
   "metadata": {},
   "source": [
    "### Pretrained ConvNet:\n",
    "#### Feature extraction"
   ]
  },
  {
   "cell_type": "code",
   "execution_count": 2,
   "metadata": {},
   "outputs": [],
   "source": [
    "from keras import models\n",
    "from keras import layers\n",
    "from keras import optimizers\n",
    "from keras.applications import VGG16\n",
    "import os\n",
    "import numpy as np\n",
    "from keras.preprocessing.image import ImageDataGenerator\n",
    "import matplotlib.pyplot as plt\n"
   ]
  },
  {
   "cell_type": "code",
   "execution_count": 3,
   "metadata": {},
   "outputs": [],
   "source": [
    "conv_base = VGG16(weights='imagenet', include_top=False, input_shape=(150, 150, 3))"
   ]
  },
  {
   "cell_type": "code",
   "execution_count": 4,
   "metadata": {},
   "outputs": [
    {
     "name": "stdout",
     "output_type": "stream",
     "text": [
      "_________________________________________________________________\n",
      "Layer (type)                 Output Shape              Param #   \n",
      "=================================================================\n",
      "input_2 (InputLayer)         (None, 150, 150, 3)       0         \n",
      "_________________________________________________________________\n",
      "block1_conv1 (Conv2D)        (None, 150, 150, 64)      1792      \n",
      "_________________________________________________________________\n",
      "block1_conv2 (Conv2D)        (None, 150, 150, 64)      36928     \n",
      "_________________________________________________________________\n",
      "block1_pool (MaxPooling2D)   (None, 75, 75, 64)        0         \n",
      "_________________________________________________________________\n",
      "block2_conv1 (Conv2D)        (None, 75, 75, 128)       73856     \n",
      "_________________________________________________________________\n",
      "block2_conv2 (Conv2D)        (None, 75, 75, 128)       147584    \n",
      "_________________________________________________________________\n",
      "block2_pool (MaxPooling2D)   (None, 37, 37, 128)       0         \n",
      "_________________________________________________________________\n",
      "block3_conv1 (Conv2D)        (None, 37, 37, 256)       295168    \n",
      "_________________________________________________________________\n",
      "block3_conv2 (Conv2D)        (None, 37, 37, 256)       590080    \n",
      "_________________________________________________________________\n",
      "block3_conv3 (Conv2D)        (None, 37, 37, 256)       590080    \n",
      "_________________________________________________________________\n",
      "block3_pool (MaxPooling2D)   (None, 18, 18, 256)       0         \n",
      "_________________________________________________________________\n",
      "block4_conv1 (Conv2D)        (None, 18, 18, 512)       1180160   \n",
      "_________________________________________________________________\n",
      "block4_conv2 (Conv2D)        (None, 18, 18, 512)       2359808   \n",
      "_________________________________________________________________\n",
      "block4_conv3 (Conv2D)        (None, 18, 18, 512)       2359808   \n",
      "_________________________________________________________________\n",
      "block4_pool (MaxPooling2D)   (None, 9, 9, 512)         0         \n",
      "_________________________________________________________________\n",
      "block5_conv1 (Conv2D)        (None, 9, 9, 512)         2359808   \n",
      "_________________________________________________________________\n",
      "block5_conv2 (Conv2D)        (None, 9, 9, 512)         2359808   \n",
      "_________________________________________________________________\n",
      "block5_conv3 (Conv2D)        (None, 9, 9, 512)         2359808   \n",
      "_________________________________________________________________\n",
      "block5_pool (MaxPooling2D)   (None, 4, 4, 512)         0         \n",
      "=================================================================\n",
      "Total params: 14,714,688\n",
      "Trainable params: 14,714,688\n",
      "Non-trainable params: 0\n",
      "_________________________________________________________________\n"
     ]
    }
   ],
   "source": [
    "conv_base.summary()"
   ]
  },
  {
   "cell_type": "markdown",
   "metadata": {},
   "source": [
    "#### At this point, there are two ways you could proceed:\n",
    "- Running the convolutional base over your dataset, recording its output to a Numpy array on disk, and then using this data as input to a standalone, densely connected classifier. This solution is fast and cheap to run, because it only requires running the convolutional base once for every input image, and the convolutional base is by far the most expensive part of the pipeline. But for the same reason, this technique won’t allow you to use data augmentation.\n",
    "- Extending the model you have (conv_base) by adding Dense layers on top, and running the whole thing end to end on the input data. This will allow you to use data augmentation, because every input image goes through the convolutional base every time it’s seen by the model. But for the same reason, this technique is far more expensive than the first.\n",
    "\n",
    "### Fast feature extraction using the pretrained convolutional base without data augmentation"
   ]
  },
  {
   "cell_type": "code",
   "execution_count": 6,
   "metadata": {},
   "outputs": [
    {
     "name": "stdout",
     "output_type": "stream",
     "text": [
      "Found 2000 images belonging to 2 classes.\n",
      "Found 1000 images belonging to 2 classes.\n",
      "Found 1000 images belonging to 2 classes.\n"
     ]
    }
   ],
   "source": [
    "base_dir = '/home/nbuser/courses/fastai/courses/dl1/data/dogscats/cats_and_dogs_small'\n",
    "train_dir = os.path.join(base_dir, 'train')\n",
    "validation_dir = os.path.join(base_dir, 'validation')\n",
    "test_dir = os.path.join(base_dir, 'test')\n",
    "\n",
    "datagen = ImageDataGenerator(rescale=1./255)\n",
    "batch_size = 64\n",
    "\n",
    "def extract_features(directory, sample_count):\n",
    "    features = np.zeros(shape=(sample_count, 4, 4, 512))\n",
    "    labels = np.zeros(shape=(sample_count))\n",
    "    generator = datagen.flow_from_directory(directory, target_size=(150, 150),\n",
    "                                            batch_size=batch_size, class_mode='binary')\n",
    "    i = 0\n",
    "    for inputs_batch, labels_batch in generator:\n",
    "        features_batch = conv_base.predict(inputs_batch)\n",
    "        features[i * batch_size : (i + 1) * batch_size] = features_batch\n",
    "        labels[i * batch_size : (i + 1) * batch_size] = labels_batch\n",
    "        i += 1\n",
    "        if i * batch_size >= sample_count:\n",
    "            break\n",
    "    return features, labels\n",
    "\n",
    "train_features, train_labels = extract_features(train_dir, 2000)\n",
    "validation_features, validation_labels = extract_features(validation_dir, 1000)\n",
    "test_features, test_labels = extract_features(test_dir, 1000)\n",
    "\n",
    "train_features = np.reshape(train_features, (2000, 4 * 4 * 512))\n",
    "validation_features = np.reshape(validation_features, (1000, 4 * 4 * 512))\n",
    "test_features = np.reshape(test_features, (1000, 4 * 4 * 512))"
   ]
  },
  {
   "cell_type": "markdown",
   "metadata": {},
   "source": [
    "#### Dfining and training the densely connected classifier"
   ]
  },
  {
   "cell_type": "code",
   "execution_count": 7,
   "metadata": {},
   "outputs": [
    {
     "name": "stdout",
     "output_type": "stream",
     "text": [
      "Train on 2000 samples, validate on 1000 samples\n",
      "Epoch 1/30\n",
      "2000/2000 [==============================] - 11s 5ms/step - loss: 0.5948 - acc: 0.6870 - val_loss: 0.4347 - val_acc: 0.8400\n",
      "Epoch 2/30\n",
      "2000/2000 [==============================] - 1s 331us/step - loss: 0.4205 - acc: 0.8120 - val_loss: 0.3574 - val_acc: 0.8750\n",
      "Epoch 3/30\n",
      "2000/2000 [==============================] - 1s 352us/step - loss: 0.3498 - acc: 0.8540 - val_loss: 0.3185 - val_acc: 0.8790\n",
      "Epoch 4/30\n",
      "2000/2000 [==============================] - 1s 327us/step - loss: 0.3105 - acc: 0.8745 - val_loss: 0.2967 - val_acc: 0.8870\n",
      "Epoch 5/30\n",
      "2000/2000 [==============================] - 1s 335us/step - loss: 0.2831 - acc: 0.8800 - val_loss: 0.2818 - val_acc: 0.8890\n",
      "Epoch 6/30\n",
      "2000/2000 [==============================] - 1s 337us/step - loss: 0.2616 - acc: 0.8965 - val_loss: 0.2706 - val_acc: 0.8960\n",
      "Epoch 7/30\n",
      "2000/2000 [==============================] - 1s 347us/step - loss: 0.2412 - acc: 0.9020 - val_loss: 0.2734 - val_acc: 0.8880\n",
      "Epoch 8/30\n",
      "2000/2000 [==============================] - 1s 351us/step - loss: 0.2323 - acc: 0.9080 - val_loss: 0.2571 - val_acc: 0.8990\n",
      "Epoch 9/30\n",
      "2000/2000 [==============================] - 1s 358us/step - loss: 0.2079 - acc: 0.9215 - val_loss: 0.2518 - val_acc: 0.8980\n",
      "Epoch 10/30\n",
      "2000/2000 [==============================] - 1s 344us/step - loss: 0.1999 - acc: 0.9225 - val_loss: 0.2475 - val_acc: 0.9020\n",
      "Epoch 11/30\n",
      "2000/2000 [==============================] - 1s 344us/step - loss: 0.1937 - acc: 0.9310 - val_loss: 0.2450 - val_acc: 0.9020\n",
      "Epoch 12/30\n",
      "2000/2000 [==============================] - 1s 335us/step - loss: 0.1879 - acc: 0.9315 - val_loss: 0.2431 - val_acc: 0.9020\n",
      "Epoch 13/30\n",
      "2000/2000 [==============================] - 1s 345us/step - loss: 0.1826 - acc: 0.9410 - val_loss: 0.2424 - val_acc: 0.9020\n",
      "Epoch 14/30\n",
      "2000/2000 [==============================] - 1s 345us/step - loss: 0.1698 - acc: 0.9415 - val_loss: 0.2460 - val_acc: 0.8970\n",
      "Epoch 15/30\n",
      "2000/2000 [==============================] - 1s 343us/step - loss: 0.1599 - acc: 0.9410 - val_loss: 0.2376 - val_acc: 0.9020\n",
      "Epoch 16/30\n",
      "2000/2000 [==============================] - 1s 345us/step - loss: 0.1556 - acc: 0.9435 - val_loss: 0.2366 - val_acc: 0.9010\n",
      "Epoch 17/30\n",
      "2000/2000 [==============================] - 1s 349us/step - loss: 0.1506 - acc: 0.9470 - val_loss: 0.2348 - val_acc: 0.9000\n",
      "Epoch 18/30\n",
      "2000/2000 [==============================] - 1s 334us/step - loss: 0.1402 - acc: 0.9515 - val_loss: 0.2339 - val_acc: 0.9030\n",
      "Epoch 19/30\n",
      "2000/2000 [==============================] - 1s 352us/step - loss: 0.1342 - acc: 0.9540 - val_loss: 0.2354 - val_acc: 0.9020\n",
      "Epoch 20/30\n",
      "2000/2000 [==============================] - 1s 333us/step - loss: 0.1321 - acc: 0.9585 - val_loss: 0.2333 - val_acc: 0.9020\n",
      "Epoch 21/30\n",
      "2000/2000 [==============================] - 1s 342us/step - loss: 0.1261 - acc: 0.9560 - val_loss: 0.2381 - val_acc: 0.9030\n",
      "Epoch 22/30\n",
      "2000/2000 [==============================] - 1s 348us/step - loss: 0.1171 - acc: 0.9635 - val_loss: 0.2396 - val_acc: 0.9040\n",
      "Epoch 23/30\n",
      "2000/2000 [==============================] - 1s 340us/step - loss: 0.1162 - acc: 0.9645 - val_loss: 0.2381 - val_acc: 0.9020\n",
      "Epoch 24/30\n",
      "2000/2000 [==============================] - 1s 340us/step - loss: 0.1101 - acc: 0.9675 - val_loss: 0.2384 - val_acc: 0.9040\n",
      "Epoch 25/30\n",
      "2000/2000 [==============================] - 1s 335us/step - loss: 0.1063 - acc: 0.9680 - val_loss: 0.2341 - val_acc: 0.9020\n",
      "Epoch 26/30\n",
      "2000/2000 [==============================] - 1s 346us/step - loss: 0.1035 - acc: 0.9685 - val_loss: 0.2362 - val_acc: 0.9000\n",
      "Epoch 27/30\n",
      "2000/2000 [==============================] - 1s 347us/step - loss: 0.0995 - acc: 0.9680 - val_loss: 0.2398 - val_acc: 0.9040\n",
      "Epoch 28/30\n",
      "2000/2000 [==============================] - 1s 340us/step - loss: 0.0961 - acc: 0.9710 - val_loss: 0.2390 - val_acc: 0.9040\n",
      "Epoch 29/30\n",
      "2000/2000 [==============================] - 1s 342us/step - loss: 0.0863 - acc: 0.9740 - val_loss: 0.2352 - val_acc: 0.9000\n",
      "Epoch 30/30\n",
      "2000/2000 [==============================] - 1s 344us/step - loss: 0.0822 - acc: 0.9760 - val_loss: 0.2406 - val_acc: 0.9000\n"
     ]
    }
   ],
   "source": [
    "model = models.Sequential()\n",
    "model.add(layers.Dense(256, activation='relu', input_dim=4 * 4 * 512))\n",
    "model.add(layers.Dropout(0.5))\n",
    "model.add(layers.Dense(1, activation='sigmoid'))\n",
    "model.compile(optimizer=optimizers.RMSprop(lr=2e-5), loss='binary_crossentropy', metrics=['acc'])\n",
    "history = model.fit(train_features, train_labels, epochs=30, batch_size=20,\n",
    "                    validation_data=(validation_features, validation_labels))"
   ]
  },
  {
   "cell_type": "markdown",
   "metadata": {},
   "source": [
    "#### Plotting the results"
   ]
  },
  {
   "cell_type": "code",
   "execution_count": 11,
   "metadata": {},
   "outputs": [
    {
     "data": {
      "image/png": "[encoded data removed]",
      "text/plain": [
       "<Figure size 432x288 with 1 Axes>"
      ]
     },
     "metadata": {},
     "output_type": "display_data"
    },
    {
     "data": {
      "image/png": "[encoded data removed]",
      "text/plain": [
       "<Figure size 432x288 with 1 Axes>"
      ]
     },
     "metadata": {},
     "output_type": "display_data"
    }
   ],
   "source": [
    "acc = history.history['acc']\n",
    "val_acc = history.history['val_acc']\n",
    "loss = history.history['loss']\n",
    "val_loss = history.history['val_loss']\n",
    "epochs = range(1, len(acc) + 1)\n",
    "plt.plot(epochs, acc, 'go', label='Training acc')\n",
    "plt.plot(epochs, val_acc, 'r', label='Validation acc')\n",
    "plt.title('Training and validation accuracy')\n",
    "plt.legend()\n",
    "plt.figure()\n",
    "plt.plot(epochs, loss, 'go', label='Training loss')\n",
    "plt.plot(epochs, val_loss, 'r', label='Validation loss')\n",
    "plt.title('Training and validation loss')\n",
    "plt.legend()\n",
    "plt.show()"
   ]
  },
  {
   "cell_type": "markdown",
   "metadata": {},
   "source": [
    "- Note: We reach a validation accuracy of about 90% — much better than we achieved in the previous section with the small model trained from scratch. But the plots also indicate that we’re overfitting almost from the start—despite using dropout with a fairly large rate. That’s because this technique doesn’t use data augmentation, which is essential for preventing overfitting with small image datasets.\n",
    "### Feature extraction with data augmentation"
   ]
  },
  {
   "cell_type": "code",
   "execution_count": 12,
   "metadata": {},
   "outputs": [],
   "source": [
    "model = models.Sequential()\n",
    "model.add(conv_base)\n",
    "model.add(layers.Flatten())\n",
    "model.add(layers.Dense(256, activation='relu'))\n",
    "model.add(layers.Dense(1, activation='sigmoid'))"
   ]
  },
  {
   "cell_type": "code",
   "execution_count": 13,
   "metadata": {},
   "outputs": [
    {
     "name": "stdout",
     "output_type": "stream",
     "text": [
      "_________________________________________________________________\n",
      "Layer (type)                 Output Shape              Param #   \n",
      "=================================================================\n",
      "vgg16 (Model)                (None, 4, 4, 512)         14714688  \n",
      "_________________________________________________________________\n",
      "flatten_1 (Flatten)          (None, 8192)              0         \n",
      "_________________________________________________________________\n",
      "dense_3 (Dense)              (None, 256)               2097408   \n",
      "_________________________________________________________________\n",
      "dense_4 (Dense)              (None, 1)                 257       \n",
      "=================================================================\n",
      "Total params: 16,812,353\n",
      "Trainable params: 16,812,353\n",
      "Non-trainable params: 0\n",
      "_________________________________________________________________\n"
     ]
    }
   ],
   "source": [
    "model.summary()"
   ]
  },
  {
   "cell_type": "markdown",
   "metadata": {},
   "source": [
    "- Note: Before compile and train the model, it’s very important to freeze the convolutional base. Freezing a layer or set of layers means preventing their weights from being updated during training. If we don’t do this, then the representations that were previously learned by the convolutional base will be modified during training. Because the Dense layers on top are randomly initialized, very large weight updates would be propagated through the network, effectively destroying the representations previously learned."
   ]
  },
  {
   "cell_type": "code",
   "execution_count": 14,
   "metadata": {},
   "outputs": [
    {
     "name": "stdout",
     "output_type": "stream",
     "text": [
      "This is the number of trainable weights before freezing the conv base: 30\n",
      "This is the number of trainable weights after freezing the conv base: 4\n"
     ]
    }
   ],
   "source": [
    "print('This is the number of trainable weights before freezing the conv base:', len(model.trainable_weights))\n",
    "conv_base.trainable = False\n",
    "print('This is the number of trainable weights after freezing the conv base:', len(model.trainable_weights))"
   ]
  },
  {
   "cell_type": "markdown",
   "metadata": {},
   "source": [
    "#### Training the model end to end with a frozen convolutional base"
   ]
  },
  {
   "cell_type": "code",
   "execution_count": 15,
   "metadata": {},
   "outputs": [
    {
     "name": "stdout",
     "output_type": "stream",
     "text": [
      "Found 2000 images belonging to 2 classes.\n",
      "Found 1000 images belonging to 2 classes.\n",
      "Epoch 1/30\n",
      "100/100 [==============================] - 53s 534ms/step - loss: 0.6053 - acc: 0.6835 - val_loss: 0.4713 - val_acc: 0.8000\n",
      "Epoch 2/30\n",
      "100/100 [==============================] - 49s 490ms/step - loss: 0.4800 - acc: 0.7930 - val_loss: 0.3709 - val_acc: 0.8640\n",
      "Epoch 3/30\n",
      "100/100 [==============================] - 55s 552ms/step - loss: 0.4347 - acc: 0.8045 - val_loss: 0.3337 - val_acc: 0.8680\n",
      "Epoch 4/30\n",
      "100/100 [==============================] - 52s 517ms/step - loss: 0.3952 - acc: 0.8410 - val_loss: 0.3043 - val_acc: 0.8880\n",
      "Epoch 5/30\n",
      "100/100 [==============================] - 48s 480ms/step - loss: 0.3838 - acc: 0.8335 - val_loss: 0.2900 - val_acc: 0.8940\n",
      "Epoch 6/30\n",
      "100/100 [==============================] - 46s 457ms/step - loss: 0.3683 - acc: 0.8380 - val_loss: 0.2783 - val_acc: 0.8980\n",
      "Epoch 7/30\n",
      "100/100 [==============================] - 46s 458ms/step - loss: 0.3587 - acc: 0.8405 - val_loss: 0.2698 - val_acc: 0.8920\n",
      "Epoch 8/30\n",
      "100/100 [==============================] - 46s 459ms/step - loss: 0.3468 - acc: 0.8415 - val_loss: 0.2643 - val_acc: 0.8950\n",
      "Epoch 9/30\n",
      "100/100 [==============================] - 46s 459ms/step - loss: 0.3386 - acc: 0.8510 - val_loss: 0.2612 - val_acc: 0.8960\n",
      "Epoch 10/30\n",
      "100/100 [==============================] - 46s 461ms/step - loss: 0.3395 - acc: 0.8520 - val_loss: 0.2605 - val_acc: 0.8960\n",
      "Epoch 11/30\n",
      "100/100 [==============================] - 49s 487ms/step - loss: 0.3263 - acc: 0.8575 - val_loss: 0.2579 - val_acc: 0.8960\n",
      "Epoch 12/30\n",
      "100/100 [==============================] - 54s 543ms/step - loss: 0.3316 - acc: 0.8585 - val_loss: 0.2529 - val_acc: 0.8960\n",
      "Epoch 13/30\n",
      "100/100 [==============================] - 56s 561ms/step - loss: 0.3191 - acc: 0.8570 - val_loss: 0.2581 - val_acc: 0.8920\n",
      "Epoch 14/30\n",
      "100/100 [==============================] - 54s 543ms/step - loss: 0.3302 - acc: 0.8470 - val_loss: 0.2495 - val_acc: 0.8970\n",
      "Epoch 15/30\n",
      "100/100 [==============================] - 52s 518ms/step - loss: 0.3159 - acc: 0.8640 - val_loss: 0.2499 - val_acc: 0.8960\n",
      "Epoch 16/30\n",
      "100/100 [==============================] - 50s 496ms/step - loss: 0.3085 - acc: 0.8725 - val_loss: 0.2430 - val_acc: 0.9020\n",
      "Epoch 17/30\n",
      "100/100 [==============================] - 50s 495ms/step - loss: 0.3174 - acc: 0.8615 - val_loss: 0.2436 - val_acc: 0.8930\n",
      "Epoch 18/30\n",
      "100/100 [==============================] - 49s 489ms/step - loss: 0.3032 - acc: 0.8685 - val_loss: 0.2481 - val_acc: 0.9000\n",
      "Epoch 19/30\n",
      "100/100 [==============================] - 50s 496ms/step - loss: 0.3059 - acc: 0.8655 - val_loss: 0.2399 - val_acc: 0.8970\n",
      "Epoch 20/30\n",
      "100/100 [==============================] - 47s 472ms/step - loss: 0.3016 - acc: 0.8770 - val_loss: 0.2434 - val_acc: 0.8930\n",
      "Epoch 21/30\n",
      "100/100 [==============================] - 49s 487ms/step - loss: 0.2969 - acc: 0.8710 - val_loss: 0.2490 - val_acc: 0.8970\n",
      "Epoch 22/30\n",
      "100/100 [==============================] - 50s 496ms/step - loss: 0.2987 - acc: 0.8740 - val_loss: 0.2392 - val_acc: 0.8980\n",
      "Epoch 23/30\n",
      "100/100 [==============================] - 48s 478ms/step - loss: 0.3016 - acc: 0.8700 - val_loss: 0.2454 - val_acc: 0.8970\n",
      "Epoch 24/30\n",
      "100/100 [==============================] - 48s 480ms/step - loss: 0.2802 - acc: 0.8815 - val_loss: 0.2456 - val_acc: 0.9050\n",
      "Epoch 25/30\n",
      "100/100 [==============================] - 45s 450ms/step - loss: 0.2813 - acc: 0.8760 - val_loss: 0.2456 - val_acc: 0.9020\n",
      "Epoch 26/30\n",
      "100/100 [==============================] - 45s 449ms/step - loss: 0.2935 - acc: 0.8765 - val_loss: 0.2417 - val_acc: 0.8990\n",
      "Epoch 27/30\n",
      "100/100 [==============================] - 48s 484ms/step - loss: 0.2960 - acc: 0.8715 - val_loss: 0.2436 - val_acc: 0.8970\n",
      "Epoch 28/30\n",
      "100/100 [==============================] - 51s 512ms/step - loss: 0.2834 - acc: 0.8785 - val_loss: 0.2401 - val_acc: 0.8990\n",
      "Epoch 29/30\n",
      "100/100 [==============================] - 49s 490ms/step - loss: 0.2831 - acc: 0.8770 - val_loss: 0.2416 - val_acc: 0.9020\n",
      "Epoch 30/30\n",
      "100/100 [==============================] - 50s 501ms/step - loss: 0.2807 - acc: 0.8865 - val_loss: 0.2483 - val_acc: 0.9020\n"
     ]
    }
   ],
   "source": [
    "train_datagen = ImageDataGenerator(rescale=1./255, rotation_range=40, width_shift_range=0.2, height_shift_range=0.2,\n",
    "                                   shear_range=0.2, zoom_range=0.2, horizontal_flip=True, fill_mode='nearest')\n",
    "test_datagen = ImageDataGenerator(rescale=1./255)\n",
    "\n",
    "train_generator = train_datagen.flow_from_directory(train_dir, target_size=(150, 150), \n",
    "                                                    batch_size=20, class_mode='binary')\n",
    "validation_generator = test_datagen.flow_from_directory(validation_dir, target_size=(150, 150),\n",
    "                                                        batch_size=20, class_mode='binary')\n",
    "\n",
    "model.compile(loss='binary_crossentropy', optimizer=optimizers.RMSprop(lr=2e-5), metrics=['acc'])\n",
    "\n",
    "history = model.fit_generator(train_generator, steps_per_epoch=100, epochs=30,\n",
    "                              validation_data=validation_generator, validation_steps=50)"
   ]
  },
  {
   "cell_type": "code",
   "execution_count": 17,
   "metadata": {},
   "outputs": [
    {
     "data": {
      "image/png": "[encoded data removed]",
      "text/plain": [
       "<Figure size 432x288 with 1 Axes>"
      ]
     },
     "metadata": {},
     "output_type": "display_data"
    },
    {
     "data": {
      "image/png": "[encoded data removed]",
      "text/plain": [
       "<Figure size 432x288 with 1 Axes>"
      ]
     },
     "metadata": {},
     "output_type": "display_data"
    }
   ],
   "source": [
    "acc = history.history['acc']\n",
    "val_acc = history.history['val_acc']\n",
    "loss = history.history['loss']\n",
    "val_loss = history.history['val_loss']\n",
    "epochs = range(1, len(acc) + 1)\n",
    "plt.plot(epochs, acc, 'ro', label='Training acc')\n",
    "plt.plot(epochs, val_acc, 'b', label='Validation acc')\n",
    "plt.title('Training and validation accuracy')\n",
    "plt.legend()\n",
    "plt.figure()\n",
    "plt.plot(epochs, loss, 'ro', label='Training loss')\n",
    "plt.plot(epochs, val_loss, 'b', label='Validation loss')\n",
    "plt.title('Training and validation loss')\n",
    "plt.legend()\n",
    "plt.show()"
   ]
  },
  {
   "cell_type": "markdown",
   "metadata": {},
   "source": [
    "### Fine-Tuning\n",
    "- Fine-tuning consists of unfreezing a few of the top layers of a frozen model base used for feature extraction, and jointly training both the newly added part of the model (in this case, the fully connected classifier) and these top layers. This is called fine-tuning because it slightly adjusts the more abstract representations of the model being reused, in order to make them more relevant for the current problem.\n",
    "Thus the\n",
    "#### Steps for fine-tuning a network are as follow:\n",
    " - Add the custom network on top of an already-trained base network.\n",
    " - Freeze the base network.\n",
    " - Train the newely added part.\n",
    " - Unfreeze some layers in the base network.\n",
    " - Jointly train both these layers and the part you added."
   ]
  },
  {
   "cell_type": "code",
   "execution_count": 18,
   "metadata": {},
   "outputs": [
    {
     "name": "stdout",
     "output_type": "stream",
     "text": [
      "_________________________________________________________________\n",
      "Layer (type)                 Output Shape              Param #   \n",
      "=================================================================\n",
      "input_2 (InputLayer)         (None, 150, 150, 3)       0         \n",
      "_________________________________________________________________\n",
      "block1_conv1 (Conv2D)        (None, 150, 150, 64)      1792      \n",
      "_________________________________________________________________\n",
      "block1_conv2 (Conv2D)        (None, 150, 150, 64)      36928     \n",
      "_________________________________________________________________\n",
      "block1_pool (MaxPooling2D)   (None, 75, 75, 64)        0         \n",
      "_________________________________________________________________\n",
      "block2_conv1 (Conv2D)        (None, 75, 75, 128)       73856     \n",
      "_________________________________________________________________\n",
      "block2_conv2 (Conv2D)        (None, 75, 75, 128)       147584    \n",
      "_________________________________________________________________\n",
      "block2_pool (MaxPooling2D)   (None, 37, 37, 128)       0         \n",
      "_________________________________________________________________\n",
      "block3_conv1 (Conv2D)        (None, 37, 37, 256)       295168    \n",
      "_________________________________________________________________\n",
      "block3_conv2 (Conv2D)        (None, 37, 37, 256)       590080    \n",
      "_________________________________________________________________\n",
      "block3_conv3 (Conv2D)        (None, 37, 37, 256)       590080    \n",
      "_________________________________________________________________\n",
      "block3_pool (MaxPooling2D)   (None, 18, 18, 256)       0         \n",
      "_________________________________________________________________\n",
      "block4_conv1 (Conv2D)        (None, 18, 18, 512)       1180160   \n",
      "_________________________________________________________________\n",
      "block4_conv2 (Conv2D)        (None, 18, 18, 512)       2359808   \n",
      "_________________________________________________________________\n",
      "block4_conv3 (Conv2D)        (None, 18, 18, 512)       2359808   \n",
      "_________________________________________________________________\n",
      "block4_pool (MaxPooling2D)   (None, 9, 9, 512)         0         \n",
      "_________________________________________________________________\n",
      "block5_conv1 (Conv2D)        (None, 9, 9, 512)         2359808   \n",
      "_________________________________________________________________\n",
      "block5_conv2 (Conv2D)        (None, 9, 9, 512)         2359808   \n",
      "_________________________________________________________________\n",
      "block5_conv3 (Conv2D)        (None, 9, 9, 512)         2359808   \n",
      "_________________________________________________________________\n",
      "block5_pool (MaxPooling2D)   (None, 4, 4, 512)         0         \n",
      "=================================================================\n",
      "Total params: 14,714,688\n",
      "Trainable params: 0\n",
      "Non-trainable params: 14,714,688\n",
      "_________________________________________________________________\n"
     ]
    }
   ],
   "source": [
    "conv_base.summary()"
   ]
  },
  {
   "cell_type": "markdown",
   "metadata": {},
   "source": [
    "#### Fine-tune the last three convolutional layers, which means all layers up to block4_pool should be frozen, and the layers block5_conv1, block5_conv2, and block5_conv3 should be trainable.\n",
    "#### Why not fine-tune more layers? Why not fine-tune the entire convolutional base?\n",
    "- Earlier layers in the convolutional base encode more-generic, reusable features, whereas layers higher up encode more-specialized features. It’s more useful to fine-tune the more specialized features, because these are the ones that need to be repurposed for the new problem. There would be fast-decreasing returns in fine-tuning lower layers.\n",
    "- The more parameters we’re training, more risk of overfitting. The convolutional base has 15 million parameters, so it would be risky to attempt to train it on your small dataset. It’s a good strategy to fine-tune only the top two or three layers in the convolutional base."
   ]
  },
  {
   "cell_type": "code",
   "execution_count": 19,
   "metadata": {},
   "outputs": [],
   "source": [
    "conv_base.trainable = True\n",
    "set_trainable = False\n",
    "for layer in conv_base.layers:\n",
    "    if layer.name == 'block5_conv1':\n",
    "        set_trainable = True\n",
    "    if set_trainable:\n",
    "        layer.trainable = True\n",
    "    else:\n",
    "        layer.trainable = False"
   ]
  },
  {
   "cell_type": "code",
   "execution_count": 22,
   "metadata": {},
   "outputs": [
    {
     "name": "stdout",
     "output_type": "stream",
     "text": [
      "Epoch 1/5\n",
      "100/100 [==============================] - 54s 542ms/step - loss: 0.0229 - acc: 0.9915 - val_loss: 0.2549 - val_acc: 0.9410\n",
      "Epoch 2/5\n",
      "100/100 [==============================] - 53s 534ms/step - loss: 0.0196 - acc: 0.9945 - val_loss: 0.3971 - val_acc: 0.9240\n",
      "Epoch 3/5\n",
      "100/100 [==============================] - 54s 542ms/step - loss: 0.0254 - acc: 0.9925 - val_loss: 0.2941 - val_acc: 0.9280\n",
      "Epoch 4/5\n",
      "100/100 [==============================] - 57s 568ms/step - loss: 0.0152 - acc: 0.9960 - val_loss: 0.3528 - val_acc: 0.9260\n",
      "Epoch 5/5\n",
      "100/100 [==============================] - 55s 551ms/step - loss: 0.0194 - acc: 0.9930 - val_loss: 0.2684 - val_acc: 0.9400\n"
     ]
    }
   ],
   "source": [
    "model.compile(loss='binary_crossentropy', optimizer=optimizers.RMSprop(lr=1e-5), metrics=['acc'])\n",
    "history = model.fit_generator(train_generator, steps_per_epoch=100, epochs=5,\n",
    "                              validation_data=validation_generator, validation_steps=50)"
   ]
  },
  {
   "cell_type": "code",
   "execution_count": 24,
   "metadata": {},
   "outputs": [
    {
     "data": {
      "image/png": "[encoded data removed]",
      "text/plain": [
       "<Figure size 432x288 with 1 Axes>"
      ]
     },
     "metadata": {},
     "output_type": "display_data"
    },
    {
     "data": {
      "image/png": "[encoded data removed]",
      "text/plain": [
       "<Figure size 432x288 with 1 Axes>"
      ]
     },
     "metadata": {},
     "output_type": "display_data"
    }
   ],
   "source": [
    "acc = history.history['acc']\n",
    "val_acc = history.history['val_acc']\n",
    "loss = history.history['loss']\n",
    "val_loss = history.history['val_loss']\n",
    "epochs = range(1, len(acc) + 1)\n",
    "plt.plot(epochs, acc, 'bo', label='Training acc')\n",
    "plt.plot(epochs, val_acc, 'r', label='Validation acc')\n",
    "plt.title('Training and validation accuracy')\n",
    "plt.legend()\n",
    "plt.figure()\n",
    "plt.plot(epochs, loss, 'bo', label='Training loss')\n",
    "plt.plot(epochs, val_loss, 'r', label='Validation loss')\n",
    "plt.title('Training and validation loss')\n",
    "plt.legend()\n",
    "plt.show()"
   ]
  },
  {
   "cell_type": "markdown",
   "metadata": {},
   "source": [
    "Note:- These curves look noisy. To make them more readable, we can smooth them by replacing every loss and accuracy with exponential moving averages of these quantities. \n",
    "### Smoothing the plot"
   ]
  },
  {
   "cell_type": "code",
   "execution_count": 26,
   "metadata": {},
   "outputs": [
    {
     "data": {
      "image/png": "[encoded data removed]",
      "text/plain": [
       "<Figure size 432x288 with 1 Axes>"
      ]
     },
     "metadata": {},
     "output_type": "display_data"
    },
    {
     "data": {
      "image/png": "[encoded data removed]",
      "text/plain": [
       "<Figure size 432x288 with 1 Axes>"
      ]
     },
     "metadata": {},
     "output_type": "display_data"
    }
   ],
   "source": [
    "def smooth_curve(points, factor=0.8):\n",
    "    smoothed_points = []\n",
    "    for point in points:\n",
    "        if smoothed_points:\n",
    "            previous = smoothed_points[-1]\n",
    "            smoothed_points.append(previous * factor + point * (1 - factor))\n",
    "        else:\n",
    "            smoothed_points.append(point)\n",
    "    return smoothed_points\n",
    "\n",
    "plt.plot(epochs, smooth_curve(acc), 'bo', label='Smoothed training acc')\n",
    "plt.plot(epochs, smooth_curve(val_acc), 'r', label='Smoothed validation acc')\n",
    "plt.title('Training and validation accuracy')\n",
    "plt.legend()\n",
    "plt.figure()\n",
    "plt.plot(epochs, smooth_curve(loss), 'bo', label='Smoothed training loss')\n",
    "plt.plot(epochs, smooth_curve(val_loss), 'r', label='Smoothed validation loss')\n",
    "plt.title('Training and validation loss')\n",
    "plt.legend()\n",
    "plt.show()"
   ]
  },
  {
   "cell_type": "markdown",
   "metadata": {},
   "source": [
    "### Evaluate the model on the test data:"
   ]
  },
  {
   "cell_type": "code",
   "execution_count": 27,
   "metadata": {},
   "outputs": [
    {
     "name": "stdout",
     "output_type": "stream",
     "text": [
      "Found 1000 images belonging to 2 classes.\n",
      "test acc: 0.9409999942779541\n"
     ]
    }
   ],
   "source": [
    "test_generator = test_datagen.flow_from_directory(test_dir, target_size=(150, 150), batch_size=20, class_mode='binary')\n",
    "test_loss, test_acc = model.evaluate_generator(test_generator, steps=50)\n",
    "print('test acc:', test_acc)"
   ]
  },
  {
   "cell_type": "code",
   "execution_count": 28,
   "metadata": {},
   "outputs": [],
   "source": [
    "model.save('cats_and_dogs_small_Vgg16.h5')"
   ]
  },
  {
   "cell_type": "code",
   "execution_count": null,
   "metadata": {},
   "outputs": [],
   "source": []
  }
 ],
 "metadata": {
  "kernelspec": {
   "display_name": "Python 3",
   "language": "python",
   "name": "python3"
  },
  "language_info": {
   "codemirror_mode": {
    "name": "ipython",
    "version": 3
   },
   "file_extension": ".py",
   "mimetype": "text/x-python",
   "name": "python",
   "nbconvert_exporter": "python",
   "pygments_lexer": "ipython3",
   "version": "3.6.3"
  }
 },
 "nbformat": 4,
 "nbformat_minor": 2
}
